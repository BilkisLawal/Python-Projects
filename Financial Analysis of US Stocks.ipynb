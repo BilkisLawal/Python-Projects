{
 "cells": [
  {
   "cell_type": "markdown",
   "id": "93076f13-a42e-469f-ba40-22e5d14e1e95",
   "metadata": {},
   "source": [
    "# Financial Analysis of US Stocks"
   ]
  },
  {
   "cell_type": "code",
   "execution_count": null,
   "id": "5f53f4d2-9632-43db-9f10-419ce33db674",
   "metadata": {},
   "outputs": [],
   "source": []
  }
 ],
 "metadata": {
  "kernelspec": {
   "display_name": "Python 3 (ipykernel)",
   "language": "python",
   "name": "python3"
  },
  "language_info": {
   "codemirror_mode": {
    "name": "ipython",
    "version": 3
   },
   "file_extension": ".py",
   "mimetype": "text/x-python",
   "name": "python",
   "nbconvert_exporter": "python",
   "pygments_lexer": "ipython3",
   "version": "3.12.4"
  }
 },
 "nbformat": 4,
 "nbformat_minor": 5
}
