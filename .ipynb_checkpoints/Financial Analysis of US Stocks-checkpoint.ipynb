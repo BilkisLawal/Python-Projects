{
 "cells": [
  {
   "cell_type": "markdown",
   "id": "93076f13-a42e-469f-ba40-22e5d14e1e95",
   "metadata": {},
   "source": [
    "# Financial Analysis of US Stocks"
   ]
  },
  {
   "cell_type": "code",
   "execution_count": 6,
   "id": "24b1bc5f-f2bb-4100-b20c-8467e17ead84",
   "metadata": {},
   "outputs": [],
   "source": [
    "import numpy as np\n",
    "import pandas as pd\n",
    "import matplotlib.pyplot as plt"
   ]
  },
  {
   "cell_type": "code",
   "execution_count": 24,
   "id": "92a15199-8a63-4a0e-8a97-85aff151a9cc",
   "metadata": {},
   "outputs": [],
   "source": [
    "df_2014= pd.read_csv(r'/Users/Bilkis/Documents/Data Analysis/Python/Finanvcial Analysis/2014_Financial_Data.csv')\n",
    "df_2015= pd.read_csv(r'/Users/Bilkis/Documents/Data Analysis/Python/Finanvcial Analysis/2015_Financial_Data.csv')\n",
    "df_2016= pd.read_csv(r'/Users/Bilkis/Documents/Data Analysis/Python/Finanvcial Analysis/2016_Financial_Data.csv')\n",
    "df_2017= pd.read_csv(r'/Users/Bilkis/Documents/Data Analysis/Python/Finanvcial Analysis/2017_Financial_Data.csv')\n",
    "df_2018= pd.read_csv(r'/Users/Bilkis/Documents/Data Analysis/Python/Finanvcial Analysis/2018_Financial_Data.csv')"
   ]
  },
  {
   "cell_type": "code",
   "execution_count": 48,
   "id": "dea2b310-6814-4169-bbf5-379abe8eff72",
   "metadata": {},
   "outputs": [
    {
     "name": "stdout",
     "output_type": "stream",
     "text": [
      "Shape of data for Year 2014 is (3808, 225)\n",
      "Shape of data for Year 2014 is (4120, 225)\n",
      "Shape of data for Year 2014 is (4797, 225)\n",
      "Shape of data for Year 2014 is (4960, 225)\n",
      "Shape of data for Year 2014 is (4392, 225)\n"
     ]
    }
   ],
   "source": [
    "print(\"Shape of data for Year 2014 is {}\".format(df_2014.shape))\n",
    "print(\"Shape of data for Year 2014 is {}\".format(df_2015.shape))\n",
    "print(\"Shape of data for Year 2014 is {}\".format(df_2016.shape))\n",
    "print(\"Shape of data for Year 2014 is {}\".format(df_2017.shape))\n",
    "print(\"Shape of data for Year 2014 is {}\".format(df_2018.shape))"
   ]
  },
  {
   "cell_type": "code",
   "execution_count": 50,
   "id": "c21ab433-b50d-48e2-84b6-a51749611623",
   "metadata": {},
   "outputs": [
    {
     "name": "stdout",
     "output_type": "stream",
     "text": [
      "Unnamed: 0                0\n",
      "Revenue                  44\n",
      "Revenue Growth          236\n",
      "Cost of Revenue          74\n",
      "Gross Profit             52\n",
      "                       ... \n",
      "R&D Expense Growth      247\n",
      "SG&A Expenses Growth    243\n",
      "Sector                    0\n",
      "2015 PRICE VAR [%]        0\n",
      "Class                     0\n",
      "Length: 225, dtype: int64\n"
     ]
    }
   ],
   "source": [
    "print(df_2014.isnull().sum())"
   ]
  },
  {
   "cell_type": "code",
   "execution_count": 52,
   "id": "89896e6e-7b72-4b3c-aa40-27f3c3a608d9",
   "metadata": {},
   "outputs": [
    {
     "name": "stdout",
     "output_type": "stream",
     "text": [
      "Unnamed: 0                0\n",
      "Revenue                  67\n",
      "Revenue Growth          340\n",
      "Cost of Revenue         193\n",
      "Gross Profit             65\n",
      "                       ... \n",
      "R&D Expense Growth      351\n",
      "SG&A Expenses Growth    347\n",
      "Sector                    0\n",
      "2016 PRICE VAR [%]        0\n",
      "Class                     0\n",
      "Length: 225, dtype: int64\n"
     ]
    }
   ],
   "source": [
    "print(df_2015.isnull().sum())\n"
   ]
  },
  {
   "cell_type": "code",
   "execution_count": 54,
   "id": "c46c13a8-9015-4153-b725-f7bd5d9302f6",
   "metadata": {},
   "outputs": [
    {
     "name": "stdout",
     "output_type": "stream",
     "text": [
      "Unnamed: 0                0\n",
      "Revenue                 489\n",
      "Revenue Growth          649\n",
      "Cost of Revenue         640\n",
      "Gross Profit            492\n",
      "                       ... \n",
      "R&D Expense Growth      772\n",
      "SG&A Expenses Growth    756\n",
      "Sector                    0\n",
      "2017 PRICE VAR [%]        0\n",
      "Class                     0\n",
      "Length: 225, dtype: int64\n"
     ]
    }
   ],
   "source": [
    "print(df_2016.isnull().sum())"
   ]
  },
  {
   "cell_type": "code",
   "execution_count": 58,
   "id": "8ef71a9b-ebe3-4eb6-9864-e98b950b4bd6",
   "metadata": {},
   "outputs": [
    {
     "name": "stdout",
     "output_type": "stream",
     "text": [
      "Unnamed: 0                0\n",
      "Revenue                 525\n",
      "Revenue Growth          724\n",
      "Cost of Revenue         679\n",
      "Gross Profit            534\n",
      "                       ... \n",
      "R&D Expense Growth      850\n",
      "SG&A Expenses Growth    828\n",
      "Sector                    0\n",
      "2018 PRICE VAR [%]        0\n",
      "Class                     0\n",
      "Length: 225, dtype: int64\n"
     ]
    }
   ],
   "source": [
    "print(df_2017.isnull().sum())"
   ]
  },
  {
   "cell_type": "code",
   "execution_count": 60,
   "id": "5ff6d2a0-2187-4a4c-9ceb-d6ba619bfd1b",
   "metadata": {},
   "outputs": [
    {
     "name": "stdout",
     "output_type": "stream",
     "text": [
      "Unnamed: 0                0\n",
      "Revenue                  46\n",
      "Revenue Growth          139\n",
      "Cost of Revenue         185\n",
      "Gross Profit             64\n",
      "                       ... \n",
      "R&D Expense Growth      259\n",
      "SG&A Expenses Growth    248\n",
      "Sector                    0\n",
      "2019 PRICE VAR [%]        0\n",
      "Class                     0\n",
      "Length: 225, dtype: int64\n"
     ]
    }
   ],
   "source": [
    "print(df_2018.isnull().sum())"
   ]
  },
  {
   "cell_type": "code",
   "execution_count": 62,
   "id": "c08c9da8-3a96-4ec8-ac8e-ae056b722a02",
   "metadata": {},
   "outputs": [],
   "source": [
    "df_2014.fillna(0,inplace =True)\n",
    "df_2015.fillna(0,inplace =True)\n",
    "df_2016.fillna(0,inplace =True)\n",
    "df_2017.fillna(0,inplace =True)\n",
    "df_2018.fillna(0,inplace =True)"
   ]
  },
  {
   "cell_type": "code",
   "execution_count": null,
   "id": "8164e0f1-cb19-4531-b03c-638817934e57",
   "metadata": {},
   "outputs": [],
   "source": []
  },
  {
   "cell_type": "code",
   "execution_count": null,
   "id": "fe678276-95ff-48b4-b6ff-88b98e153a47",
   "metadata": {},
   "outputs": [],
   "source": []
  },
  {
   "cell_type": "code",
   "execution_count": null,
   "id": "eeb1b3b7-9e28-4416-b3b4-3f8f0f4e5b41",
   "metadata": {},
   "outputs": [],
   "source": []
  },
  {
   "cell_type": "code",
   "execution_count": null,
   "id": "8c85c291-d803-498d-a246-108d356d89b3",
   "metadata": {},
   "outputs": [],
   "source": []
  },
  {
   "cell_type": "code",
   "execution_count": null,
   "id": "5f53f4d2-9632-43db-9f10-419ce33db674",
   "metadata": {},
   "outputs": [],
   "source": []
  }
 ],
 "metadata": {
  "kernelspec": {
   "display_name": "Python 3 (ipykernel)",
   "language": "python",
   "name": "python3"
  },
  "language_info": {
   "codemirror_mode": {
    "name": "ipython",
    "version": 3
   },
   "file_extension": ".py",
   "mimetype": "text/x-python",
   "name": "python",
   "nbconvert_exporter": "python",
   "pygments_lexer": "ipython3",
   "version": "3.12.4"
  }
 },
 "nbformat": 4,
 "nbformat_minor": 5
}
